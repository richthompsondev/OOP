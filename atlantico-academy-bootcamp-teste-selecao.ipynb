{
 "cells": [
  {
   "cell_type": "markdown",
   "id": "7d74506f",
   "metadata": {},
   "source": [
    "# Teste de Seleção - Ciência de dados\n",
    "Teste de seleção aplicado para o processo seletivo do programa Atlântico Academy Bootcamp."
   ]
  },
  {
   "cell_type": "markdown",
   "id": "a8074f5c",
   "metadata": {},
   "source": [
    "*Qual a saída em tela do seguinte código?*"
   ]
  },
  {
   "cell_type": "code",
   "execution_count": 1,
   "id": "ab090ae5",
   "metadata": {},
   "outputs": [
    {
     "name": "stdout",
     "output_type": "stream",
     "text": [
      "(4, 2)\n"
     ]
    }
   ],
   "source": [
    "import numpy as np\n",
    "\n",
    "A = np.array([\n",
    "    [1, 2],\n",
    "    [2, 3],\n",
    "    [4, 5]\n",
    "])\n",
    "B = np.array([\n",
    "    [12, 21, 43],\n",
    "    [42, 45, 14],\n",
    "    [35, 46, 44],\n",
    "    [11, 22, 90]\n",
    "])\n",
    "C = B @ A \n",
    "print(C.shape)"
   ]
  },
  {
   "cell_type": "markdown",
   "id": "353d7791",
   "metadata": {},
   "source": [
    "*Qual a saída em tela do seguinte código?*"
   ]
  },
  {
   "cell_type": "code",
   "execution_count": 2,
   "id": "4c3b202f",
   "metadata": {},
   "outputs": [
    {
     "ename": "NameError",
     "evalue": "name 'my_string' is not defined",
     "output_type": "error",
     "traceback": [
      "\u001b[1;31m---------------------------------------------------------------------------\u001b[0m",
      "\u001b[1;31mNameError\u001b[0m                                 Traceback (most recent call last)",
      "\u001b[1;32m~\\AppData\\Local\\Temp/ipykernel_6952/2928307525.py\u001b[0m in \u001b[0;36m<module>\u001b[1;34m\u001b[0m\n\u001b[1;32m----> 1\u001b[1;33m \u001b[0mk\u001b[0m \u001b[1;33m=\u001b[0m \u001b[1;33m[\u001b[0m\u001b[0mprint\u001b[0m\u001b[1;33m(\u001b[0m\u001b[0mi\u001b[0m\u001b[1;33m)\u001b[0m \u001b[1;32mfor\u001b[0m \u001b[0mi\u001b[0m \u001b[1;32min\u001b[0m \u001b[0mmy_string\u001b[0m \u001b[1;32mif\u001b[0m \u001b[0mi\u001b[0m \u001b[1;32mnot\u001b[0m \u001b[1;32min\u001b[0m \u001b[1;34m\"aeiou\"\u001b[0m\u001b[1;33m]\u001b[0m\u001b[1;33m\u001b[0m\u001b[1;33m\u001b[0m\u001b[0m\n\u001b[0m\u001b[0;32m      2\u001b[0m \u001b[0mprint\u001b[0m\u001b[1;33m(\u001b[0m\u001b[0mk\u001b[0m\u001b[1;33m)\u001b[0m\u001b[1;33m\u001b[0m\u001b[1;33m\u001b[0m\u001b[0m\n",
      "\u001b[1;31mNameError\u001b[0m: name 'my_string' is not defined"
     ]
    }
   ],
   "source": [
    "k = [print(i) for i in my_string if i not in \"aeiou\"]\n",
    "print(k)"
   ]
  },
  {
   "cell_type": "markdown",
   "id": "7c1e6f9f",
   "metadata": {},
   "source": [
    "*Qual a forma correta de instanciar a classe \"Dog\":*"
   ]
  },
  {
   "cell_type": "code",
   "execution_count": 3,
   "id": "f173976f",
   "metadata": {},
   "outputs": [
    {
     "name": "stdout",
     "output_type": "stream",
     "text": [
      "Amora\n"
     ]
    }
   ],
   "source": [
    "class Dog:\n",
    "    def __init__(self, name, age):\n",
    "        self.name = name\n",
    "        self.age = age\n",
    "        \n",
    "my_dog = Dog(\"Amora\", 3)\n",
    "print(my_dog.name)"
   ]
  },
  {
   "cell_type": "markdown",
   "id": "c50939c4",
   "metadata": {},
   "source": [
    "*Qual a saída em tela do seguinte trecho de código?*"
   ]
  },
  {
   "cell_type": "code",
   "execution_count": 4,
   "id": "d94dce9e",
   "metadata": {},
   "outputs": [
    {
     "data": {
      "text/plain": [
       "'*walking*'"
      ]
     },
     "execution_count": 4,
     "metadata": {},
     "output_type": "execute_result"
    }
   ],
   "source": [
    "class Dog:\n",
    "    def walk(self):\n",
    "        return \"*walking*\"\n",
    "    def speak(self):\n",
    "        return \"Woof!\"\n",
    "    \n",
    "class JackRussellTerrier(Dog):\n",
    "    def speak(self):\n",
    "        return \"Arff!\"\n",
    "    \n",
    "bobo = JackRussellTerrier()\n",
    "bobo.walk()"
   ]
  },
  {
   "cell_type": "markdown",
   "id": "4ad54a00",
   "metadata": {},
   "source": [
    "*Qual a saída em tela do seguinte trecho de código?*"
   ]
  },
  {
   "cell_type": "code",
   "execution_count": 5,
   "id": "4fd8cab7",
   "metadata": {},
   "outputs": [
    {
     "name": "stdout",
     "output_type": "stream",
     "text": [
      "1 2 4\n"
     ]
    }
   ],
   "source": [
    "if 'bar' in {'foo':1, 'bar':2, 'baz': 3}:\n",
    "    print(1, end=' ')\n",
    "    print(2, end=' ')\n",
    "    if 'a' in 'qux':\n",
    "        print(3, end=' ')\n",
    "print(4)"
   ]
  },
  {
   "cell_type": "markdown",
   "id": "addd866b",
   "metadata": {},
   "source": [
    "*Supondo que a variável x é definida a partir do trecho de código seguinte. Qual é a expressão, envolvendo x que acessa o valor 30?*"
   ]
  },
  {
   "cell_type": "code",
   "execution_count": 6,
   "id": "6f9a5abd",
   "metadata": {},
   "outputs": [
    {
     "name": "stdout",
     "output_type": "stream",
     "text": [
      "30\n"
     ]
    }
   ],
   "source": [
    "x = [\n",
    "    'a',\n",
    "    'b',\n",
    "    {\n",
    "        'foo': 1,\n",
    "        'bar':\n",
    "        {\n",
    "            'x': 10,\n",
    "            'y': 20,\n",
    "            'z': 30\n",
    "        },\n",
    "        'baz': 3\n",
    "    },\n",
    "    'c',\n",
    "    'd'\n",
    "]\n",
    "print(x[2]['bar']['z'])"
   ]
  },
  {
   "cell_type": "markdown",
   "id": "c8a95428",
   "metadata": {},
   "source": [
    "*Quais das seguintes afirmações são verdadeiras para os dicionários Python:*\n",
    "\n",
    "[F] Todas as chaves em um dicionário devem ser do mesmo tipo.\n",
    "\n",
    "[V] Os dicionários podem ser aninhados em qualquer profundidade.\n",
    "\n",
    "[V] Os dicionários são mutáveis.\n",
    "\n",
    "[F] Os itens são acessados por sua posição em um dicionário.\n",
    "\n",
    "[V] Os dicionários são acessados por chave.\n",
    "\n",
    "[F] Um dicionário pode conter qualquer tipo de objeto, exceto outro dicionário."
   ]
  },
  {
   "cell_type": "markdown",
   "id": "e5aed6bb",
   "metadata": {},
   "source": [
    "\n",
    "*Como as funções lambda são úteis? Selecione tudo que se aplica:*\n",
    "\n",
    "[F] As funções Lambda sempre tornam o código mais fácil de ler.\n",
    "\n",
    "[V] As funções Lambda são usadas para programação funcional.\n",
    "\n",
    "[V] Eles são úteis para permitir cálculos rápidos ou processamento como entrada para outras funções.\n",
    "\n",
    "[V] Eles podem ser úteis como funções de linha única rápidas e descartáveis."
   ]
  },
  {
   "cell_type": "markdown",
   "id": "14af9e32",
   "metadata": {},
   "source": [
    "\n",
    "*Quais das seguintes afirmações são verdadeiras em relação a várias instruções por linha em Python:*\n",
    "\n",
    "[F] Várias instruções na mesma linha são separadas pelo caractere &.\n",
    "\n",
    "[V] Especificar mais de uma instrução em uma linha normalmente não é considerado pytonico, mas pode ser aceitável se melhorar a legibilidade.\n",
    "\n",
    "[V] Colocar várias instruções em uma única linha é desencorajado pelo PEP 8.\n",
    "\n",
    "[F] Somente instruções de atribuição de variáveis podem ocorrer multiplicadas em uma única linha."
   ]
  },
  {
   "cell_type": "markdown",
   "id": "6f114149",
   "metadata": {},
   "source": [
    "*Considere as seguintes definições de função, qual das funções inicia um loop?*"
   ]
  },
  {
   "cell_type": "code",
   "execution_count": 7,
   "id": "40c17e8f",
   "metadata": {},
   "outputs": [
    {
     "name": "stdout",
     "output_type": "stream",
     "text": [
      "ok foo!\n",
      "ok bar!\n",
      "ok baz!\n",
      "ok spam!\n"
     ]
    }
   ],
   "source": [
    "def foo():\n",
    "    while True:\n",
    "        print(\"ok foo!\")\n",
    "        break\n",
    "        \n",
    "def bar():\n",
    "    a = ['foo', 'bar', 'baz', 'qux', 'corge']\n",
    "    while a:\n",
    "        print(\"ok bar!\")\n",
    "        break\n",
    "        \n",
    "def baz():\n",
    "    n = 100\n",
    "    while n > 0:\n",
    "        print(\"ok baz!\")\n",
    "        break\n",
    "        \n",
    "def spam():\n",
    "    while \"0\":\n",
    "        print(\"ok spam!\")\n",
    "        break\n",
    "foo()\n",
    "bar()\n",
    "baz()\n",
    "spam()"
   ]
  }
 ],
 "metadata": {
  "kernelspec": {
   "display_name": "Python 3 (ipykernel)",
   "language": "python",
   "name": "python3"
  },
  "language_info": {
   "codemirror_mode": {
    "name": "ipython",
    "version": 3
   },
   "file_extension": ".py",
   "mimetype": "text/x-python",
   "name": "python",
   "nbconvert_exporter": "python",
   "pygments_lexer": "ipython3",
   "version": "3.9.7"
  }
 },
 "nbformat": 4,
 "nbformat_minor": 5
}
